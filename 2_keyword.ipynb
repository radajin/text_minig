{
 "cells": [
  {
   "cell_type": "code",
   "execution_count": 1,
   "metadata": {
    "collapsed": true
   },
   "outputs": [],
   "source": [
    "import sys\n",
    "import os.path\n",
    "import pprint\n",
    "import konlpy.tag"
   ]
  },
  {
   "cell_type": "code",
   "execution_count": 2,
   "metadata": {
    "collapsed": true
   },
   "outputs": [],
   "source": [
    "komoran = konlpy.tag.Komoran()"
   ]
  },
  {
   "cell_type": "code",
   "execution_count": 3,
   "metadata": {
    "collapsed": true
   },
   "outputs": [],
   "source": [
    "text = \"\"\"\n",
    "국민의당의 박지원 비대위원장 체제가 본격 가동됐습니다.\n",
    "안철수·천정배 두 공동대표의 사퇴로 임시지도부를 이끌게 된 박지원 비상대책위원장은 '마냥 슬퍼할 수만은 없다'며 당 정상화 의지를 강조했습니다.\n",
    "[박지원/국민의당 비상대책위원장]\n",
    "\"바쁜 꿀벌은 슬퍼할 시간이 없습니다. 위기를 극복하는 정답은 일하는 것입니다.\"\n",
    "동교동계 출신의 최경환 의원을 비대위원장 비서실장으로 임명하며 구체적인 당 수습 방안도 내놨습니다.\n",
    "최대한 빨리 비대위원 인선을 마치고 인사는 최소화해 당직자들의 동요를 막기로 했습니다.\n",
    "새 지도부를 선출할 전당대회 시기는 당 수습부터 마친 후 결정하기로 했고, 매주 화요일 의원총회를 정례화하기로 했습니다.\n",
    "7~8월에는 안철수·천정배 전 대표를 포함한 의원들이 전국 순회 간담회, '민생 투어'로 실추된 이미지 회복에 나설 계획도 밝혔습니다.\n",
    "이번 사태를 가져온 박선숙·김수민 의원과 안철수 전 대표는 의원총회에 불참했습니다.\n",
    "안 전 대표는 마지막 아침 공부모임에는 참석해 '개근상'을 받은 후 앞으로 백의종군하겠다고 밝혔습니다.\n",
    "\"\"\""
   ]
  },
  {
   "cell_type": "code",
   "execution_count": 4,
   "metadata": {
    "collapsed": false
   },
   "outputs": [],
   "source": [
    "result = komoran.pos(text, flatten=False)\n",
    "# pprint.pprint(result)"
   ]
  },
  {
   "cell_type": "code",
   "execution_count": 5,
   "metadata": {
    "collapsed": false
   },
   "outputs": [],
   "source": [
    "# komoran.tagset"
   ]
  },
  {
   "cell_type": "code",
   "execution_count": 9,
   "metadata": {
    "collapsed": true
   },
   "outputs": [],
   "source": [
    "import re\n",
    "def split_sentences(text):\n",
    "    text = re.sub(\"([\\.!?] )\", \"\\g<1>\\n\", text)\n",
    "    sents = text.splitlines()\n",
    "    sents = [s.strip() for s in sents]\n",
    "    return sents"
   ]
  },
  {
   "cell_type": "code",
   "execution_count": 50,
   "metadata": {
    "collapsed": false
   },
   "outputs": [],
   "source": [
    "import collections\n",
    "\n",
    "def line2obj(lines):\n",
    "        \n",
    "    obj = {}\n",
    "    \n",
    "    for line in lines:\n",
    "        for keyword in line:\n",
    "            if len(keyword) > 1 and ( keyword[0][1] == \"NNP\" or keyword[0][1] == \"NNG\" ) :\n",
    "                \n",
    "                key = keyword[0][0]\n",
    "                if key in obj:\n",
    "                    obj[key] += 1\n",
    "                else:\n",
    "                    obj[key] = 1\n",
    "                \n",
    "    return obj"
   ]
  },
  {
   "cell_type": "code",
   "execution_count": 51,
   "metadata": {
    "collapsed": false
   },
   "outputs": [],
   "source": [
    "komoran = konlpy.tag.Komoran()\n",
    "sents = split_sentences(text)\n",
    "\n",
    "morph_anal = []\n",
    "\n",
    "for sent in sents:\n",
    "    morph_anal.append(komoran.pos(sent, flatten=False))\n",
    "\n",
    "result = line2obj(morph_anal)"
   ]
  },
  {
   "cell_type": "code",
   "execution_count": 52,
   "metadata": {
    "collapsed": false
   },
   "outputs": [
    {
     "data": {
      "text/plain": [
       "{'가동': 1,\n",
       " '간담회': 1,\n",
       " '강조': 1,\n",
       " '결정': 1,\n",
       " '계획': 1,\n",
       " '공동대표': 1,\n",
       " '공부': 1,\n",
       " '구체': 1,\n",
       " '국민의당': 1,\n",
       " '극복': 1,\n",
       " '꿀벌': 1,\n",
       " '당직자': 1,\n",
       " '대표': 3,\n",
       " '동요': 1,\n",
       " '박선숙': 1,\n",
       " '방안': 1,\n",
       " '백의종군': 1,\n",
       " '불참': 1,\n",
       " '비대': 3,\n",
       " '비상대책위': 2,\n",
       " '비서실장': 1,\n",
       " '사태': 1,\n",
       " '사퇴': 1,\n",
       " '선출': 1,\n",
       " '수습': 1,\n",
       " '시간': 1,\n",
       " '시기': 1,\n",
       " '실추': 1,\n",
       " '안철수': 2,\n",
       " '앞': 1,\n",
       " '위기': 1,\n",
       " '의원': 5,\n",
       " '의지': 1,\n",
       " '인사': 1,\n",
       " '인선': 1,\n",
       " '일': 1,\n",
       " '임명': 1,\n",
       " '임시': 1,\n",
       " '전당': 1,\n",
       " '정답': 1,\n",
       " '정례': 1,\n",
       " '정상': 1,\n",
       " '지도부': 1,\n",
       " '참석': 1,\n",
       " '체제': 1,\n",
       " '최소': 1,\n",
       " '출신': 1,\n",
       " '투어': 1,\n",
       " '포함': 1,\n",
       " '회복': 1}"
      ]
     },
     "execution_count": 52,
     "metadata": {},
     "output_type": "execute_result"
    }
   ],
   "source": [
    "result"
   ]
  },
  {
   "cell_type": "code",
   "execution_count": null,
   "metadata": {
    "collapsed": true
   },
   "outputs": [],
   "source": []
  }
 ],
 "metadata": {
  "kernelspec": {
   "display_name": "Python 3",
   "language": "python",
   "name": "python3"
  },
  "language_info": {
   "codemirror_mode": {
    "name": "ipython",
    "version": 3
   },
   "file_extension": ".py",
   "mimetype": "text/x-python",
   "name": "python",
   "nbconvert_exporter": "python",
   "pygments_lexer": "ipython3",
   "version": "3.5.1"
  }
 },
 "nbformat": 4,
 "nbformat_minor": 0
}
