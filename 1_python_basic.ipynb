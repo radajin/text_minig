{
 "cells": [
  {
   "cell_type": "markdown",
   "metadata": {},
   "source": [
    "### chage csv to tsv\n",
    "\n",
    "##### 1. install gnu-sed\n",
    "\\$ brew install gnu-sed\n",
    "\n",
    "##### 2. ( , -> tab )\n",
    "\\$ gsed -i 's/\",\"/\\t/g' seoul-wifi-locations.txt\n",
    "\n",
    "##### 3. ( \" -> no char )\n",
    "\\$ gsed -i 's/\"//g' seoul-wifi-locations.txt"
   ]
  },
  {
   "cell_type": "markdown",
   "metadata": {
    "collapsed": true
   },
   "source": [
    "# 1. Read"
   ]
  },
  {
   "cell_type": "code",
   "execution_count": 23,
   "metadata": {
    "collapsed": true
   },
   "outputs": [],
   "source": [
    "import sys\n",
    "import os.path"
   ]
  },
  {
   "cell_type": "code",
   "execution_count": 24,
   "metadata": {
    "collapsed": false,
    "scrolled": true
   },
   "outputs": [],
   "source": [
    "file_name = \"./data/seoul-wifi-locations.txt\""
   ]
  },
  {
   "cell_type": "code",
   "execution_count": 34,
   "metadata": {
    "collapsed": false
   },
   "outputs": [],
   "source": [
    "with open(file_name, \"r\", encoding=\"utf-8\") as input_file_1:\n",
    "    text = input_file_1.read()"
   ]
  },
  {
   "cell_type": "code",
   "execution_count": 35,
   "metadata": {
    "collapsed": true
   },
   "outputs": [],
   "source": [
    "# print(text)"
   ]
  },
  {
   "cell_type": "code",
   "execution_count": 47,
   "metadata": {
    "collapsed": true
   },
   "outputs": [],
   "source": [
    "def main(file_name):\n",
    "    with open(file_name, \"r\", encoding=\"utf-8\") as input_file_2:\n",
    "        for line in input_file_2:\n",
    "            print(line.rstrip())"
   ]
  },
  {
   "cell_type": "code",
   "execution_count": 53,
   "metadata": {
    "collapsed": false
   },
   "outputs": [],
   "source": [
    "# main(file_name)"
   ]
  },
  {
   "cell_type": "code",
   "execution_count": 54,
   "metadata": {
    "collapsed": true
   },
   "outputs": [],
   "source": [
    "# cut two lines of top\n",
    "def main(file_name):\n",
    "    with open(file_name, \"r\", encoding=\"utf-8\") as input_file_2:\n",
    "        for line_num, line in enumerate(input_file_2) :\n",
    "            if line_num < 3:\n",
    "                continue\n",
    "            print(line.rstrip())"
   ]
  },
  {
   "cell_type": "code",
   "execution_count": 56,
   "metadata": {
    "collapsed": false
   },
   "outputs": [],
   "source": [
    "# main(file_name)"
   ]
  },
  {
   "cell_type": "markdown",
   "metadata": {},
   "source": [
    "# 2. Search"
   ]
  },
  {
   "cell_type": "code",
   "execution_count": 71,
   "metadata": {
    "collapsed": false
   },
   "outputs": [],
   "source": [
    "def read_data(input_file_name):\n",
    "    ko_headers = {}\n",
    "    en_headers = {}\n",
    "    data = []\n",
    "    \n",
    "    with open(input_file_name, \"r\", encoding=\"utf-8\") as input_file_3:\n",
    "        for line_num, line in enumerate(input_file_3, 1) :\n",
    "            if line_num == 1:\n",
    "                for idx, header in enumerate(line.split(\"\\t\")):\n",
    "                    ko_headers[header] = idx\n",
    "                continue\n",
    "                \n",
    "            if line_num == 2:\n",
    "                for idx, header in enumerate(line.split(\"\\t\")):\n",
    "                    en_headers[header] = idx\n",
    "                continue\n",
    "            \n",
    "            line_data = line.split(\"\\t\")\n",
    "            data.append(line_data)\n",
    "            \n",
    "    return ko_headers, en_headers, data"
   ]
  },
  {
   "cell_type": "code",
   "execution_count": 72,
   "metadata": {
    "collapsed": false
   },
   "outputs": [],
   "source": [
    "ko_headers, en_headers, data = read_data(file_name)"
   ]
  },
  {
   "cell_type": "code",
   "execution_count": 75,
   "metadata": {
    "collapsed": false
   },
   "outputs": [],
   "source": [
    "def get_col_num(col_names, col_name):\n",
    "    \n",
    "    if col_name.upper() not in col_names:\n",
    "        raise ValueError(\"Invalid column name : {}\".format(col_name))\n",
    "        \n",
    "    return col_names[col_name.upper()]"
   ]
  },
  {
   "cell_type": "code",
   "execution_count": 108,
   "metadata": {
    "collapsed": true
   },
   "outputs": [],
   "source": [
    "def print_data(data, col_num, col_val):\n",
    "    for row in data:\n",
    "        if row[col_num] == col_val:\n",
    "            print(\"\\t\".join(row))"
   ]
  },
  {
   "cell_type": "code",
   "execution_count": 109,
   "metadata": {
    "collapsed": true
   },
   "outputs": [],
   "source": [
    "def main(input_file_name, col_name, col_val):\n",
    "    ko_col_names, en_col_names, data = read_data(input_file_name)\n",
    "    col_num = get_col_num(en_col_names, col_name)\n",
    "    print_data(data, col_num, col_val)"
   ]
  },
  {
   "cell_type": "code",
   "execution_count": 134,
   "metadata": {
    "collapsed": false
   },
   "outputs": [],
   "source": [
    "# main(file_name, \"PLACE_NAME\", \"청담패션거리\" )"
   ]
  },
  {
   "cell_type": "markdown",
   "metadata": {},
   "source": [
    "# 3. Sort"
   ]
  },
  {
   "cell_type": "code",
   "execution_count": 114,
   "metadata": {
    "collapsed": true
   },
   "outputs": [],
   "source": [
    "import operator"
   ]
  },
  {
   "cell_type": "code",
   "execution_count": 116,
   "metadata": {
    "collapsed": true
   },
   "outputs": [],
   "source": [
    "def check_sort_dir(sort_dir):\n",
    "    \n",
    "    if sort_dir.lower() == \"a\":\n",
    "        return False\n",
    "    \n",
    "    if sort_dir.lower() == \"d\":\n",
    "        return True\n",
    "    \n",
    "    raise ValueError(\"Invalid sort direction: {}\".format(sort_dir))"
   ]
  },
  {
   "cell_type": "code",
   "execution_count": 129,
   "metadata": {
    "collapsed": true
   },
   "outputs": [],
   "source": [
    "def sort_print_data(data, col_num, do_reverse):\n",
    "    \n",
    "    for row in sorted(data, key=operator.itemgetter(col_num), reverse=do_reverse):\n",
    "        print(\"\\t\".join(row))\n",
    "        "
   ]
  },
  {
   "cell_type": "code",
   "execution_count": 142,
   "metadata": {
    "collapsed": true
   },
   "outputs": [],
   "source": [
    "def main(input_file_name, col_name, sort_dir):\n",
    "    ko_col_names, en_col_names, data = read_data(input_file_name)\n",
    "    col_num = get_col_num(en_col_names, col_name)\n",
    "    do_reverse = check_sort_dir(sort_dir)\n",
    "    sort_print_data(data, col_num, do_reverse)"
   ]
  },
  {
   "cell_type": "code",
   "execution_count": 144,
   "metadata": {
    "collapsed": false,
    "scrolled": true
   },
   "outputs": [],
   "source": [
    "# d : 내림차순, a : 오름차순\n",
    "# main(file_name, \"PLACE_NAME\", \"d\" )"
   ]
  },
  {
   "cell_type": "code",
   "execution_count": 146,
   "metadata": {
    "collapsed": true
   },
   "outputs": [],
   "source": [
    "import collections"
   ]
  },
  {
   "cell_type": "code",
   "execution_count": 168,
   "metadata": {
    "collapsed": true
   },
   "outputs": [],
   "source": [
    "def count_print_data(data, col_num):\n",
    "    col_counter = collections.Counter()\n",
    "    \n",
    "    for row in data:\n",
    "        col_val = row[col_num]\n",
    "        col_counter[col_val] += 1\n",
    "        \n",
    "    for col_val, count in col_counter.most_common():\n",
    "        print(\"{} : {}\".format(col_val, count))"
   ]
  },
  {
   "cell_type": "code",
   "execution_count": 169,
   "metadata": {
    "collapsed": true
   },
   "outputs": [],
   "source": [
    "def main(input_file_name, col_name):\n",
    "    ko_col_names, en_col_names, data = read_data(input_file_name)\n",
    "    col_num = get_col_num(en_col_names, col_name)\n",
    "    count_print_data(data, col_num)"
   ]
  },
  {
   "cell_type": "code",
   "execution_count": 171,
   "metadata": {
    "collapsed": false
   },
   "outputs": [],
   "source": [
    "# main(file_name, \"PLACE_NAME\")"
   ]
  },
  {
   "cell_type": "markdown",
   "metadata": {},
   "source": [
    "# 4. Group"
   ]
  },
  {
   "cell_type": "code",
   "execution_count": 173,
   "metadata": {
    "collapsed": true
   },
   "outputs": [],
   "source": [
    "import collections\n",
    "import itertools"
   ]
  },
  {
   "cell_type": "code",
   "execution_count": 205,
   "metadata": {
    "collapsed": false
   },
   "outputs": [],
   "source": [
    "def groupby_print_data(data, col_num):\n",
    "    groups = []\n",
    "    uniq_keys = []\n",
    "    data.sort(key=operator.itemgetter(col_num))\n",
    "    \n",
    "    for k, g in itertools.groupby(data, operator.itemgetter(col_num)):\n",
    "        groups.append(list(g))\n",
    "        uniq_keys.append(k)\n",
    "\n",
    "    for ukey, group in zip(uniq_keys, groups):\n",
    "        print(\"{} : {}\".format(ukey, len(group)))\n",
    "        for member in group:\n",
    "            print(\"\\t\".join(member))"
   ]
  },
  {
   "cell_type": "code",
   "execution_count": 206,
   "metadata": {
    "collapsed": true
   },
   "outputs": [],
   "source": [
    "def main(input_file_name, col_name):\n",
    "    ko_col_names, en_col_names, data = read_data(input_file_name)\n",
    "    col_num = get_col_num(en_col_names, col_name)\n",
    "    groupby_print_data(data, col_num)"
   ]
  },
  {
   "cell_type": "code",
   "execution_count": 208,
   "metadata": {
    "collapsed": false
   },
   "outputs": [],
   "source": [
    "# main(file_name, \"PLACE_NAME\")"
   ]
  }
 ],
 "metadata": {
  "kernelspec": {
   "display_name": "Python 3",
   "language": "python",
   "name": "python3"
  },
  "language_info": {
   "codemirror_mode": {
    "name": "ipython",
    "version": 3
   },
   "file_extension": ".py",
   "mimetype": "text/x-python",
   "name": "python",
   "nbconvert_exporter": "python",
   "pygments_lexer": "ipython3",
   "version": "3.5.1"
  }
 },
 "nbformat": 4,
 "nbformat_minor": 0
}
